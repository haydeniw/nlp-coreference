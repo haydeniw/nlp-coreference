{
 "cells": [
  {
   "cell_type": "code",
   "execution_count": 1,
   "id": "e2817192-ab60-4011-8d2c-3fb4e3375a04",
   "metadata": {
    "scrolled": true
   },
   "outputs": [],
   "source": [
    "from allennlp.predictors.predictor import Predictor\n",
    "import allennlp_models.tagging"
   ]
  },
  {
   "cell_type": "markdown",
   "id": "13ea542d",
   "metadata": {},
   "source": [
    "Text for the predictor is in the <code>document</code> variable."
   ]
  },
  {
   "cell_type": "code",
   "execution_count": 33,
   "id": "04446b0e-3d5e-4b87-a3de-e20ee261bebe",
   "metadata": {},
   "outputs": [],
   "source": [
    "predictor = Predictor.from_path(\"https://storage.googleapis.com/allennlp-public-models/coref-spanbert-large-2021.03.10.tar.gz\")\n",
    "predictorOutput = predictor.predict(document=\"What is your recommended color? The recommended color is red. Please use it.\")\n",
    "#predictorOutput = predictor.predict(document=\"Paul Allen was born on January 21, 1953, in Seattle, Washington, to Kenneth Sam Allen and Edna Faye Allen. Allen attended Lakeside School, a private school in Seattle, where he befriended Bill Gates, two years younger, with whom he shared an enthusiasm for computers.\")"
   ]
  },
  {
   "cell_type": "code",
   "execution_count": 34,
   "id": "843aeef8-27b2-4b76-82e9-a8be2405dbef",
   "metadata": {},
   "outputs": [],
   "source": [
    "def generateClusters(predictorOutput, currSentence):\n",
    "    #function borrowed from: https://github.com/ananyagup/AllenNLP-Coreference-Resolution-in-Python-Readable-clusters\n",
    "    clusters = predictorOutput['clusters']\n",
    "    document = predictorOutput['document']\n",
    "    n = 0\n",
    "    doc = {}\n",
    "    for obj in document:\n",
    "        doc.update({n :  obj}) #what I'm doing here is creating a dictionary of each word with its respective index, making it easier later.\n",
    "        n += 1\n",
    "\n",
    "    clus_all = []\n",
    "    cluster = []\n",
    "    print(doc)\n",
    "    for i in range(0, len(clusters)):\n",
    "        one_cl = clusters[i]\n",
    "        for count in range(0, len(one_cl)):\n",
    "            obj = one_cl[count]\n",
    "            for num in range((obj[0]), (obj[1]+1)):\n",
    "                for n in doc:\n",
    "                    if num == n:\n",
    "                        cluster.append(doc[n])\n",
    "        clus_all.append(cluster)\n",
    "        cluster = []\n",
    "\n",
    "    print(clus_all) #shows all coreferences\n",
    "    return clus_all"
   ]
  },
  {
   "cell_type": "code",
   "execution_count": 36,
   "id": "18dba9fd-a5b0-4fce-b575-3ab155ecf1ee",
   "metadata": {},
   "outputs": [
    {
     "name": "stdout",
     "output_type": "stream",
     "text": [
      "{0: 'What', 1: 'is', 2: 'your', 3: 'recommended', 4: 'color', 5: '?', 6: 'The', 7: 'recommended', 8: 'color', 9: 'is', 10: 'red', 11: '.', 12: 'Please', 13: 'use', 14: 'it', 15: '.'}\n",
      "[['your', 'recommended', 'color', 'The', 'recommended', 'color', 'it']]\n",
      "cluster:  ['your', 'recommended', 'color', 'The', 'recommended', 'color', 'it']\n",
      "modified sentence:  ['Please use your.', 'Please use color.', 'Please use The.', 'Please use recommended.']\n"
     ]
    }
   ],
   "source": [
    "# generateReferences takes in a context (1+ previous sentences)\n",
    "# and a current sentence and replaces all broad references with  \n",
    "# coreferences and the broad reference itself\n",
    "# TODO: extend list of broad references\n",
    "broad_refs = [\"he\", \"she\", \"this\", \"that\", \"them\", \"it\"]\n",
    "def generateReferences(context, currSentence):\n",
    "    perms = []\n",
    "    clus_all = generateClusters(predictorOutput, currSentence)\n",
    "    sentence = \"\"\n",
    "    for cluster in clus_all:\n",
    "        print(\"cluster: \", cluster)\n",
    "        for word in cluster:\n",
    "                if word in broad_refs:\n",
    "                    modified = [currSentence.replace(word, newWord) for newWord in cluster if newWord not in broad_refs]\n",
    "                    return list(set(modified))\n",
    "                    \n",
    "                    \n",
    "# example: \"Paul Allen was born on January 21, 1953, in Seattle, Washington, to Kenneth Sam Allen and Edna Faye Allen. Allen attended Lakeside School, a private school in Seattle, where he befriended Bill Gates, two years younger, with whom he shared an enthusiasm for computers.\"\n",
    "# print(\"modified sentence: \", generateReferences(\"Paul Allen was born on January 21, 1953, in Seattle, Washington, to Kenneth Sam Allen and Edna Faye Allen. Allen attended Lakeside School, a private school in Seattle, where he befriended Bill Gates, two years younger, with whom he shared an enthusiasm for computers.\", \"with whom he shared an enthusiasm for computers.\"))\n",
    "\n",
    "# Bug found: output is modified sentence:  ['Please use your.', 'Please use color.', 'Please use The.', 'Please use recommended.']\n",
    "# This is due to coreferences being > 1 word long... \n",
    "print(\"modified sentence: \", generateReferences(\"What is your recommended color? The recommended color is red. Please use it.\", \"Please use it.\"))\n",
    "    "
   ]
  },
  {
   "cell_type": "code",
   "execution_count": null,
   "id": "1480aa43-0b7a-4947-9726-b29f07945934",
   "metadata": {},
   "outputs": [],
   "source": []
  }
 ],
 "metadata": {
  "kernelspec": {
   "display_name": "Python 3",
   "language": "python",
   "name": "python3"
  },
  "language_info": {
   "codemirror_mode": {
    "name": "ipython",
    "version": 3
   },
   "file_extension": ".py",
   "mimetype": "text/x-python",
   "name": "python",
   "nbconvert_exporter": "python",
   "pygments_lexer": "ipython3",
   "version": "3.8.8"
  },
  "toc-showmarkdowntxt": true
 },
 "nbformat": 4,
 "nbformat_minor": 5
}
