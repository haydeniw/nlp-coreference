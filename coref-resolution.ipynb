{
 "cells": [
  {
   "cell_type": "code",
   "execution_count": 4,
   "id": "e2817192-ab60-4011-8d2c-3fb4e3375a04",
   "metadata": {
    "scrolled": true
   },
   "outputs": [],
   "source": [
    "from allennlp.predictors.predictor import Predictor\n",
    "import allennlp_models.tagging"
   ]
  },
  {
   "cell_type": "markdown",
   "id": "13ea542d",
   "metadata": {},
   "source": [
    "Text for the predictor is in the <code>document</code> variable."
   ]
  },
  {
   "cell_type": "code",
   "execution_count": 11,
   "id": "04446b0e-3d5e-4b87-a3de-e20ee261bebe",
   "metadata": {},
   "outputs": [],
   "source": [
    "predictor = Predictor.from_path(\"https://storage.googleapis.com/allennlp-public-models/coref-spanbert-large-2021.03.10.tar.gz\")\n",
    "#predictorOutput = predictor.predict(document=\"joe is cool. he is my friend.\")\n",
    "predictorOutput = predictor.predict(document=\"Paul Allen was born on January 21, 1953, in Seattle, Washington, to Kenneth Sam Allen and Edna Faye Allen. Allen attended Lakeside School, a private school in Seattle, where he befriended Bill Gates, two years younger, with whom he shared an enthusiasm for computers.\")"
   ]
  },
  {
   "cell_type": "code",
   "execution_count": 23,
   "id": "843aeef8-27b2-4b76-82e9-a8be2405dbef",
   "metadata": {},
   "outputs": [],
   "source": [
    "def generateClusters(predictorOutput):\n",
    "    #function borrowed from: https://github.com/ananyagup/AllenNLP-Coreference-Resolution-in-Python-Readable-clusters\n",
    "    clusters = predictorOutput['clusters']\n",
    "    document = predictorOutput['document']\n",
    "    n = 0\n",
    "    doc = {}\n",
    "    for obj in document:\n",
    "        doc.update({n :  obj}) #what I'm doing here is creating a dictionary of each word with its respective index, making it easier later.\n",
    "        n += 1\n",
    "\n",
    "    clus_all = []\n",
    "    cluster = []\n",
    "    print(doc)\n",
    "    for i in range(0, len(clusters)):\n",
    "        one_cl = clusters[i]\n",
    "        for count in range(0, len(one_cl)):\n",
    "            obj = one_cl[count]\n",
    "            for num in range((obj[0]), (obj[1]+1)):\n",
    "                for n in doc:\n",
    "                    if num == n:\n",
    "                        cluster.append(doc[n])\n",
    "        clus_all.append(cluster)\n",
    "        cluster = [] \n",
    "\n",
    "    print(clus_all) #shows all coreferences\n",
    "    return clus_all"
   ]
  },
  {
   "cell_type": "code",
   "execution_count": 24,
   "id": "18dba9fd-a5b0-4fce-b575-3ab155ecf1ee",
   "metadata": {},
   "outputs": [
    {
     "name": "stdout",
     "output_type": "stream",
     "text": [
      "{0: 'Paul', 1: 'Allen', 2: 'was', 3: 'born', 4: 'on', 5: 'January', 6: '21', 7: ',', 8: '1953', 9: ',', 10: 'in', 11: 'Seattle', 12: ',', 13: 'Washington', 14: ',', 15: 'to', 16: 'Kenneth', 17: 'Sam', 18: 'Allen', 19: 'and', 20: 'Edna', 21: 'Faye', 22: 'Allen', 23: '.', 24: 'Allen', 25: 'attended', 26: 'Lakeside', 27: 'School', 28: ',', 29: 'a', 30: 'private', 31: 'school', 32: 'in', 33: 'Seattle', 34: ',', 35: 'where', 36: 'he', 37: 'befriended', 38: 'Bill', 39: 'Gates', 40: ',', 41: 'two', 42: 'years', 43: 'younger', 44: ',', 45: 'with', 46: 'whom', 47: 'he', 48: 'shared', 49: 'an', 50: 'enthusiasm', 51: 'for', 52: 'computers', 53: '.'}\n",
      "[['Paul', 'Allen', 'Allen', 'he', 'he'], ['Seattle', ',', 'Washington', 'Seattle']]\n",
      "word:  he\n",
      "['with whom Paul shared an enthusiasm for computers.', 'with whom Allen shared an enthusiasm for computers.', 'with whom Allen shared an enthusiasm for computers.']\n",
      "word:  he\n",
      "['with whom Paul shared an enthusiasm for computers.', 'with whom Allen shared an enthusiasm for computers.', 'with whom Allen shared an enthusiasm for computers.']\n"
     ]
    }
   ],
   "source": [
    "# generateReferences takes in a context (1+ previous sentences)\n",
    "# and a current sentence and replaces all broad references with  \n",
    "# coreferences and the broad reference itself\n",
    "# TODO: extend list of broad references\n",
    "broad_refs = [\"he\", \"she\", \"this\", \"that\", \"them\", \"it\"]\n",
    "def generateReferences(context, curr_sentence):\n",
    "    perms = []\n",
    "    clus_all = generateClusters(predictorOutput)\n",
    "    # need to add something that just grabs the subsentence out of the clusters\n",
    "    for cluster in clus_all:\n",
    "        for word in cluster:\n",
    "                if word in broad_refs:\n",
    "                    print(\"word: \", word)\n",
    "                    results = [curr_sentence.replace(word, newWord) for newWord in cluster if newWord not in broad_refs]\n",
    "                    print(results)\n",
    "                    \n",
    "                    \n",
    "# example: Paul is cool. He is cool. \n",
    "generateReferences(\"Paul Allen was born on January 21, 1953, in Seattle, Washington, to Kenneth Sam Allen and Edna Faye Allen. Allen attended Lakeside School, a private school in Seattle, where he befriended Bill Gates, two years younger, with whom he shared an enthusiasm for computers.\", \"with whom he shared an enthusiasm for computers.\")\n",
    "\n",
    "    "
   ]
  },
  {
   "cell_type": "code",
   "execution_count": null,
   "id": "1480aa43-0b7a-4947-9726-b29f07945934",
   "metadata": {},
   "outputs": [],
   "source": []
  }
 ],
 "metadata": {
  "kernelspec": {
   "display_name": "Python 3",
   "language": "python",
   "name": "python3"
  },
  "language_info": {
   "codemirror_mode": {
    "name": "ipython",
    "version": 3
   },
   "file_extension": ".py",
   "mimetype": "text/x-python",
   "name": "python",
   "nbconvert_exporter": "python",
   "pygments_lexer": "ipython3",
   "version": "3.8.8"
  },
  "toc-showmarkdowntxt": true
 },
 "nbformat": 4,
 "nbformat_minor": 5
}
