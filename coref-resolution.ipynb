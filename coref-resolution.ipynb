{
 "cells": [
  {
   "cell_type": "code",
   "execution_count": 2,
   "id": "e2817192-ab60-4011-8d2c-3fb4e3375a04",
   "metadata": {
    "scrolled": true
   },
   "outputs": [],
   "source": [
    "from allennlp.predictors.predictor import Predictor\n",
    "import allennlp_models.tagging"
   ]
  },
  {
   "cell_type": "code",
   "execution_count": 17,
   "id": "04446b0e-3d5e-4b87-a3de-e20ee261bebe",
   "metadata": {},
   "outputs": [],
   "source": [
    "predictor = Predictor.from_path(\"https://storage.googleapis.com/allennlp-public-models/coref-spanbert-large-2021.03.10.tar.gz\")\n",
    "predictorOutput = predictor.predict(\n",
    "document=\"joe is cool. he is my friend.\")"
   ]
  },
  {
   "cell_type": "code",
   "execution_count": 18,
   "id": "b2996b08-27b8-4f78-8592-f37eeff2f6ee",
   "metadata": {},
   "outputs": [
    {
     "name": "stdout",
     "output_type": "stream",
     "text": [
      "{'top_spans': [[0, 0], [4, 4], [6, 6]], 'antecedent_indices': [[0, 1, 2], [0, 1, 2], [0, 1, 2]], 'predicted_antecedents': [-1, 0, -1], 'document': ['joe', 'is', 'cool', '.', 'he', 'is', 'my', 'friend', '.'], 'clusters': [[[0, 0], [4, 4]]]}\n",
      "[[[0, 0], [4, 4]]]\n"
     ]
    }
   ],
   "source": [
    "print(predictorOutput)\n",
    "print(predictorOutput[\"clusters\"])\n",
    "clusters = predictorOutput[\"clusters\"]\n"
   ]
  },
  {
   "cell_type": "code",
   "execution_count": 7,
   "id": "b303736e-f1ff-46e6-8fa1-52041203cf73",
   "metadata": {},
   "outputs": [
    {
     "name": "stdout",
     "output_type": "stream",
     "text": [
      "Paul\n",
      "Paul\n",
      "He\n",
      "He\n"
     ]
    }
   ],
   "source": [
    "# all_clusters = dict()\n",
    "# for cluster in clusters:\n",
    "#     for words in cluster:\n",
    "        \n",
    "#         for w in words:\n",
    "#             #print(w)\n",
    "#             print(predictorOutput[\"document\"][w])\n",
    "            "
   ]
  },
  {
   "cell_type": "code",
   "execution_count": 20,
   "id": "843aeef8-27b2-4b76-82e9-a8be2405dbef",
   "metadata": {},
   "outputs": [],
   "source": [
    "def generateClusters(predictorOutput):\n",
    "    clusters = predictorOutput['clusters']\n",
    "    document = predictorOutput['document']\n",
    "    document = predictorOutput['document']\n",
    "    n = 0\n",
    "    doc = {}\n",
    "    for obj in document:\n",
    "        doc.update({n :  obj}) #what I'm doing here is creating a dictionary of each word with its respective index, making it easier later.\n",
    "        n = n+1\n",
    "\n",
    "    clus_all = []\n",
    "    cluster = []\n",
    "    clus_one = {}\n",
    "    for i in range(0, len(clusters)):\n",
    "        one_cl = clusters[i]\n",
    "        for count in range(0, len(one_cl)):\n",
    "            obj = one_cl[count]\n",
    "            for num in range((obj[0]), (obj[1]+1)):\n",
    "                for n in doc:\n",
    "                    if num == n:\n",
    "                        cluster.append(doc[n])\n",
    "        clus_all.append(cluster)\n",
    "        cluster = [] \n",
    "\n",
    "    print(clus_all) #shows all coreferences\n",
    "    return clus_all"
   ]
  },
  {
   "cell_type": "code",
   "execution_count": 21,
   "id": "18dba9fd-a5b0-4fce-b575-3ab155ecf1ee",
   "metadata": {},
   "outputs": [
    {
     "name": "stdout",
     "output_type": "stream",
     "text": [
      "[['joe', 'he']]\n",
      "joe\n",
      "he\n",
      "['joe is cool.', 'he is cool.']\n"
     ]
    }
   ],
   "source": [
    "# generateReferences takes in a context (1+ previous sentences)\n",
    "# and a current sentence and replaces all broad references with  \n",
    "# coreferences and the broad reference itself\n",
    "# TODO: would we like to create a list of all \"broad references\"\n",
    "broad_refs = [\"he\", \"it\", \"she\"]\n",
    "def generateReferences(context, curr_sentence):\n",
    "    clus_all = generateClusters(predictorOutput)\n",
    "    for cluster in clus_all:\n",
    "        for word in cluster:\n",
    "                print(word)\n",
    "                if word in broad_refs:\n",
    "                    results = [curr_sentence.replace(word, newWord) for newWord in cluster]\n",
    "                    print(results)\n",
    "                    \n",
    "# example: Paul is cool. He is cool. \n",
    "generateReferences(\"joe is cool. he is my friend\", \"he is cool.\")\n",
    "\n",
    "    "
   ]
  },
  {
   "cell_type": "code",
   "execution_count": null,
   "id": "1480aa43-0b7a-4947-9726-b29f07945934",
   "metadata": {},
   "outputs": [],
   "source": []
  }
 ],
 "metadata": {
  "kernelspec": {
   "display_name": "Python 3",
   "language": "python",
   "name": "python3"
  },
  "language_info": {
   "codemirror_mode": {
    "name": "ipython",
    "version": 3
   },
   "file_extension": ".py",
   "mimetype": "text/x-python",
   "name": "python",
   "nbconvert_exporter": "python",
   "pygments_lexer": "ipython3",
   "version": "3.8.8"
  },
  "toc-showmarkdowntxt": true
 },
 "nbformat": 4,
 "nbformat_minor": 5
}
